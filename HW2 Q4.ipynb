{
 "cells": [
  {
   "cell_type": "code",
   "execution_count": 133,
   "metadata": {},
   "outputs": [],
   "source": [
    "import os.path\n",
    "import math\n",
    "import matplotlib.pyplot as plt\n",
    "import numpy as np\n",
    "import pandas as pd\n",
    "import sklearn as sk\n",
    "import seaborn as sns\n",
    "from sklearn.neighbors import KernelDensity\n",
    "plt.close(\"all\")"
   ]
  },
  {
   "cell_type": "code",
   "execution_count": 120,
   "metadata": {},
   "outputs": [],
   "source": [
    "test = pd.read_csv(\"test.csv\") \n",
    "val = pd.read_csv(\"val.csv\") \n",
    "train = pd.read_csv(\"train.csv\")"
   ]
  },
  {
   "cell_type": "markdown",
   "metadata": {},
   "source": [
    "(a) We plot the kernel density estimator of the daily average temperature training data and a historgram of the training data. The four bandwidths used are 0.5, 1, 4, and 10."
   ]
  },
  {
   "cell_type": "code",
   "execution_count": 121,
   "metadata": {},
   "outputs": [
    {
     "data": {
      "image/png": "[encoded data removed]",
      "text/plain": [
       "<Figure size 432x288 with 1 Axes>"
      ]
     },
     "metadata": {
      "needs_background": "light"
     },
     "output_type": "display_data"
    }
   ],
   "source": [
    "plot = sns.kdeplot(train['AvgTemperature'],bw=0.5, label = \"Bandwidth = 0.5\")\n",
    "plot = sns.kdeplot(train['AvgTemperature'],bw=1, label = \"Bandwidth = 1\")\n",
    "plot = sns.kdeplot(train['AvgTemperature'],bw=4, label = \"Bandwidth = 4\")\n",
    "plot = sns.kdeplot(train['AvgTemperature'],bw=10, label = \"Bandwidth = 10\")\n",
    "plot = sns.distplot(train, hist = True, bins = 40)\n",
    "#The purple line is a fit of the histogram from the sns.distplot function."
   ]
  },
  {
   "cell_type": "markdown",
   "metadata": {},
   "source": [
    "(b) We want to determine the optimal bandwidth setting. We test the bandwidths between 0.5 and 10, with 0.5 intervals. We will measure the error against the validation epmf to gauge optimalality."
   ]
  },
  {
   "cell_type": "code",
   "execution_count": 122,
   "metadata": {},
   "outputs": [],
   "source": [
    "X = np.array(train['AvgTemperature']).reshape(-1,1)"
   ]
  },
  {
   "cell_type": "code",
   "execution_count": 123,
   "metadata": {},
   "outputs": [],
   "source": [
    "#bw = np.arange(0, 20, 1)\n",
    "bandwidths = np.arange(0.5, 10.5, 0.5)\n",
    "bandwidth_pdf_int_prob = []\n",
    "for i in bandwidths:\n",
    "    kde = KernelDensity(kernel = 'gaussian', bandwidth = i).fit(X)\n",
    "    p = []\n",
    "    for j in range(1,16):\n",
    "        x = np.arange(j * 5, (j + 1 ) * 5, 0.1).reshape(-1,1)\n",
    "        j = np.exp(kde.score_samples(x))\n",
    "        p.append(np.sum(0.1 * j))\n",
    "    bandwidth_pdf_int_prob.append(p)"
   ]
  },
  {
   "cell_type": "code",
   "execution_count": 124,
   "metadata": {
    "scrolled": false
   },
   "outputs": [
    {
     "data": {
      "text/html": [
       "<div>\n",
       "<style scoped>\n",
       "    .dataframe tbody tr th:only-of-type {\n",
       "        vertical-align: middle;\n",
       "    }\n",
       "\n",
       "    .dataframe tbody tr th {\n",
       "        vertical-align: top;\n",
       "    }\n",
       "\n",
       "    .dataframe thead th {\n",
       "        text-align: right;\n",
       "    }\n",
       "</style>\n",
       "<table border=\"1\" class=\"dataframe\">\n",
       "  <thead>\n",
       "    <tr style=\"text-align: right;\">\n",
       "      <th></th>\n",
       "      <th>5</th>\n",
       "      <th>10</th>\n",
       "      <th>15</th>\n",
       "      <th>20</th>\n",
       "      <th>25</th>\n",
       "      <th>30</th>\n",
       "      <th>35</th>\n",
       "      <th>40</th>\n",
       "      <th>45</th>\n",
       "      <th>50</th>\n",
       "      <th>55</th>\n",
       "      <th>60</th>\n",
       "      <th>65</th>\n",
       "      <th>70</th>\n",
       "      <th>75</th>\n",
       "    </tr>\n",
       "  </thead>\n",
       "  <tbody>\n",
       "    <tr>\n",
       "      <th>0.5</th>\n",
       "      <td>1.342266e-11</td>\n",
       "      <td>0.003325</td>\n",
       "      <td>0.004356</td>\n",
       "      <td>0.029384</td>\n",
       "      <td>0.080247</td>\n",
       "      <td>0.119428</td>\n",
       "      <td>0.152768</td>\n",
       "      <td>0.208465</td>\n",
       "      <td>0.171023</td>\n",
       "      <td>0.115456</td>\n",
       "      <td>0.090236</td>\n",
       "      <td>0.018679</td>\n",
       "      <td>0.005043</td>\n",
       "      <td>0.001590</td>\n",
       "      <td>6.534850e-20</td>\n",
       "    </tr>\n",
       "    <tr>\n",
       "      <th>1.0</th>\n",
       "      <td>4.152341e-06</td>\n",
       "      <td>0.003139</td>\n",
       "      <td>0.005624</td>\n",
       "      <td>0.029234</td>\n",
       "      <td>0.077997</td>\n",
       "      <td>0.120883</td>\n",
       "      <td>0.153156</td>\n",
       "      <td>0.210111</td>\n",
       "      <td>0.168696</td>\n",
       "      <td>0.116890</td>\n",
       "      <td>0.087564</td>\n",
       "      <td>0.020129</td>\n",
       "      <td>0.005241</td>\n",
       "      <td>0.001334</td>\n",
       "      <td>2.632020e-08</td>\n",
       "    </tr>\n",
       "    <tr>\n",
       "      <th>1.5</th>\n",
       "      <td>6.098483e-05</td>\n",
       "      <td>0.002849</td>\n",
       "      <td>0.006587</td>\n",
       "      <td>0.029991</td>\n",
       "      <td>0.076544</td>\n",
       "      <td>0.121020</td>\n",
       "      <td>0.155717</td>\n",
       "      <td>0.206890</td>\n",
       "      <td>0.168102</td>\n",
       "      <td>0.118885</td>\n",
       "      <td>0.084900</td>\n",
       "      <td>0.021614</td>\n",
       "      <td>0.005625</td>\n",
       "      <td>0.001210</td>\n",
       "      <td>4.616503e-06</td>\n",
       "    </tr>\n",
       "    <tr>\n",
       "      <th>2.0</th>\n",
       "      <td>1.844032e-04</td>\n",
       "      <td>0.002614</td>\n",
       "      <td>0.007535</td>\n",
       "      <td>0.031109</td>\n",
       "      <td>0.075704</td>\n",
       "      <td>0.120364</td>\n",
       "      <td>0.158394</td>\n",
       "      <td>0.202102</td>\n",
       "      <td>0.167943</td>\n",
       "      <td>0.120748</td>\n",
       "      <td>0.082293</td>\n",
       "      <td>0.023714</td>\n",
       "      <td>0.006059</td>\n",
       "      <td>0.001205</td>\n",
       "      <td>3.128185e-05</td>\n",
       "    </tr>\n",
       "    <tr>\n",
       "      <th>2.5</th>\n",
       "      <td>3.291238e-04</td>\n",
       "      <td>0.002527</td>\n",
       "      <td>0.008525</td>\n",
       "      <td>0.032326</td>\n",
       "      <td>0.075305</td>\n",
       "      <td>0.119681</td>\n",
       "      <td>0.160132</td>\n",
       "      <td>0.197189</td>\n",
       "      <td>0.167631</td>\n",
       "      <td>0.122065</td>\n",
       "      <td>0.080216</td>\n",
       "      <td>0.026105</td>\n",
       "      <td>0.006585</td>\n",
       "      <td>0.001301</td>\n",
       "      <td>8.089113e-05</td>\n",
       "    </tr>\n",
       "  </tbody>\n",
       "</table>\n",
       "</div>"
      ],
      "text/plain": [
       "               5         10        15        20        25        30        35  \\\n",
       "0.5  1.342266e-11  0.003325  0.004356  0.029384  0.080247  0.119428  0.152768   \n",
       "1.0  4.152341e-06  0.003139  0.005624  0.029234  0.077997  0.120883  0.153156   \n",
       "1.5  6.098483e-05  0.002849  0.006587  0.029991  0.076544  0.121020  0.155717   \n",
       "2.0  1.844032e-04  0.002614  0.007535  0.031109  0.075704  0.120364  0.158394   \n",
       "2.5  3.291238e-04  0.002527  0.008525  0.032326  0.075305  0.119681  0.160132   \n",
       "\n",
       "           40        45        50        55        60        65        70  \\\n",
       "0.5  0.208465  0.171023  0.115456  0.090236  0.018679  0.005043  0.001590   \n",
       "1.0  0.210111  0.168696  0.116890  0.087564  0.020129  0.005241  0.001334   \n",
       "1.5  0.206890  0.168102  0.118885  0.084900  0.021614  0.005625  0.001210   \n",
       "2.0  0.202102  0.167943  0.120748  0.082293  0.023714  0.006059  0.001205   \n",
       "2.5  0.197189  0.167631  0.122065  0.080216  0.026105  0.006585  0.001301   \n",
       "\n",
       "               75  \n",
       "0.5  6.534850e-20  \n",
       "1.0  2.632020e-08  \n",
       "1.5  4.616503e-06  \n",
       "2.0  3.128185e-05  \n",
       "2.5  8.089113e-05  "
      ]
     },
     "execution_count": 124,
     "metadata": {},
     "output_type": "execute_result"
    }
   ],
   "source": [
    "ts = bins.tostring()\n",
    "cols =np.frombuffer(ts, dtype = int)\n",
    "kde_prob_est_df = pd.DataFrame(np.row_stack(bandwidth_pdf_int_prob))\n",
    "kde_prob_est_df.columns = cols\n",
    "kde_prob_est_df.set_index(bandwidths, inplace = True)\n",
    "kde_prob_est_df.head()"
   ]
  },
  {
   "cell_type": "code",
   "execution_count": 125,
   "metadata": {},
   "outputs": [
    {
     "name": "stdout",
     "output_type": "stream",
     "text": [
      "          0\n",
      "0  0.001667\n",
      "1  0.003333\n",
      "2  0.011667\n",
      "3  0.030000\n",
      "4  0.080000\n"
     ]
    }
   ],
   "source": [
    "val['Interval'] = pd.cut(val['AvgTemperature'], np.arange(5, 85, 5))\n",
    "\n",
    "epmf = []\n",
    "\n",
    "unique_value = np.unique(val['Interval'].values, return_counts = True)\n",
    "for i in range(len(unique_value[0])):\n",
    "    epmf.append(unique_value[1][i]/600)\n",
    "    \n",
    "epmf.append(0)\n",
    "\n",
    "print(pd.DataFrame(epmf).head())"
   ]
  },
  {
   "cell_type": "code",
   "execution_count": 126,
   "metadata": {
    "scrolled": false
   },
   "outputs": [
    {
     "name": "stdout",
     "output_type": "stream",
     "text": [
      "          0\n",
      "0  0.002960\n",
      "1  0.002994\n",
      "2  0.002581\n",
      "3  0.002141\n",
      "4  0.001833\n"
     ]
    }
   ],
   "source": [
    "error = []\n",
    "\n",
    "for pdf in bandwidth_pdf_int_prob:\n",
    "    error.append(sum((np.array(pdf) - np.array(epmf)) ** 2))\n",
    "\n",
    "print(pd.DataFrame(error).head())"
   ]
  },
  {
   "cell_type": "code",
   "execution_count": 127,
   "metadata": {},
   "outputs": [],
   "source": [
    "#The error minimizes at the 8th index, or when the bandwidth is 4.5."
   ]
  },
  {
   "cell_type": "code",
   "execution_count": 128,
   "metadata": {},
   "outputs": [
    {
     "data": {
      "image/png": "[encoded data removed]",
      "text/plain": [
       "<Figure size 432x288 with 1 Axes>"
      ]
     },
     "metadata": {
      "needs_background": "light"
     },
     "output_type": "display_data"
    },
    {
     "data": {
      "text/plain": [
       "0.0015877964743017464"
      ]
     },
     "execution_count": 128,
     "metadata": {},
     "output_type": "execute_result"
    }
   ],
   "source": [
    "plt.plot(bandwidths, error)\n",
    "plt.title(\"BW vs Loss\")\n",
    "plt.xlabel(\"Bandwidth\")\n",
    "plt.ylabel(\"Loss\")\n",
    "plt.show()\n",
    "min(error)"
   ]
  },
  {
   "cell_type": "markdown",
   "metadata": {},
   "source": [
    "(c) We graph the optimal bandwidth overlaying the histogram of the test data."
   ]
  },
  {
   "cell_type": "code",
   "execution_count": 129,
   "metadata": {},
   "outputs": [
    {
     "data": {
      "image/png": "[encoded data removed]",
      "text/plain": [
       "<Figure size 432x288 with 1 Axes>"
      ]
     },
     "metadata": {
      "needs_background": "light"
     },
     "output_type": "display_data"
    }
   ],
   "source": [
    "plot2 = sns.kdeplot(test['AvgTemperature'], bw =3.5, label = \"Bandwidth = 4.5\")\n",
    "plot2 = sns.distplot(test, hist = True)\n",
    "#The orange line is a fit line for the histogram from the sns.distplot function."
   ]
  },
  {
   "cell_type": "code",
   "execution_count": null,
   "metadata": {},
   "outputs": [],
   "source": []
  }
 ],
 "metadata": {
  "kernelspec": {
   "display_name": "Python 3",
   "language": "python",
   "name": "python3"
  },
  "language_info": {
   "codemirror_mode": {
    "name": "ipython",
    "version": 3
   },
   "file_extension": ".py",
   "mimetype": "text/x-python",
   "name": "python",
   "nbconvert_exporter": "python",
   "pygments_lexer": "ipython3",
   "version": "3.8.3"
  }
 },
 "nbformat": 4,
 "nbformat_minor": 4
}
