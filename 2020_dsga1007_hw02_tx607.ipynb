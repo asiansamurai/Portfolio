{
 "cells": [
  {
   "cell_type": "markdown",
   "metadata": {},
   "source": [
    "--- \n",
    "\n",
    "### 2020 FALL\n",
    "### DSGA1007\n",
    "\n",
    "--- \n",
    "\n",
    "### HW02\n",
    "### Due Date: 2020-10-08, 5PM"
   ]
  },
  {
   "cell_type": "markdown",
   "metadata": {},
   "source": [
    "Firstname: Ted\n",
    "\n",
    "Lastname: Xie\n",
    "\n",
    "E-mail: tx607@nyu.edu\n",
    "\n",
    "\n",
    "--- \n",
    "\n",
    "Enter your solutions below,  and submit this notebook"
   ]
  },
  {
   "cell_type": "code",
   "execution_count": 2,
   "metadata": {},
   "outputs": [],
   "source": [
    "import numpy as np\n",
    "import pandas as pd"
   ]
  },
  {
   "cell_type": "markdown",
   "metadata": {},
   "source": [
    "### Problem 01 (10 points):\n",
    "\n",
    "1. 1 (5 points) Write a function that iteratively calculates factorial $n!$ of an integer $n \\geq 0$, where $n!=1 \\cdot 2 \\cdot \\dots \\cdot n$. Evaluate the function for $n=10$.\n",
    "\n",
    "\n",
    "1. 2 (5 points) Write a function that recursively calculates factorial $n!$ of an integer $n \\geq 0$, where $n!=1 \\cdot 2 \\cdot \\dots \\cdot n$. Evaluate the function for $n=10$.\n"
   ]
  },
  {
   "cell_type": "code",
   "execution_count": 3,
   "metadata": {},
   "outputs": [
    {
     "name": "stdout",
     "output_type": "stream",
     "text": [
      "Using the iterative_factorial function for n = 10, we get: 3628800 .\n",
      "Using the recursive_factorial function for n = 10, we get: 3628800 .\n"
     ]
    }
   ],
   "source": [
    "#1.1\n",
    "def iterative_factorial(n):\n",
    "    if n < 0:\n",
    "        return None\n",
    "    else:\n",
    "        x = 1\n",
    "        for i in range(1, n + 1):\n",
    "            x = x * i\n",
    "        return x\n",
    "\n",
    "print('Using the iterative_factorial function for n = 10, we get:', iterative_factorial(10),'.')\n",
    "\n",
    "#1.2\n",
    "def recursive_factorial(n):\n",
    "    if n < 0:\n",
    "        return None\n",
    "    elif n == 0:\n",
    "        return 1\n",
    "    else:\n",
    "        return n * recursive_factorial(n - 1)\n",
    "    \n",
    "print('Using the recursive_factorial function for n = 10, we get:', recursive_factorial(10),'.')"
   ]
  },
  {
   "cell_type": "markdown",
   "metadata": {},
   "source": [
    "### Problem 02 (50 points)\n",
    "\n",
    "Let $M$ be a real quadratic matrix, that is, the number of rows and columns are the same. \n",
    "\n",
    "2.1 (20 points) Write a function that *recursively* calculates the power of matrix to the exponent $k$ (by the definition of the matrix multiplication). Here $k \\geq 0$ is an integer.\n",
    "\n",
    "```def matrix_mult_rec(M, k):\n",
    "    return M_to_power\n",
    "```    \n",
    "    \n",
    "\n",
    "2.2 (10 points) What is the number of calls, that is, how many times the function has been called for $k=100$?\n",
    "\n",
    "2.3 (15 points) Given the same question as one in 2.2, what is the answer for a general input $k$?\n",
    "\n",
    "2.4. (5 points) What is the answer for `M=np.ones((5, 5))` and `k=5`?"
   ]
  },
  {
   "cell_type": "code",
   "execution_count": 5,
   "metadata": {},
   "outputs": [
    {
     "name": "stdout",
     "output_type": "stream",
     "text": [
      "The number of times the function has been called for k = 100 is 101 times.\n",
      "The number of times the function is called for k = n is n + 1 times.\n",
      "[[1. 1. 1. 1. 1.]\n",
      " [1. 1. 1. 1. 1.]\n",
      " [1. 1. 1. 1. 1.]\n",
      " [1. 1. 1. 1. 1.]\n",
      " [1. 1. 1. 1. 1.]]\n",
      "The function matrix_mult_rec(M, 5) called the function 6 times.\n"
     ]
    }
   ],
   "source": [
    "#2.1\n",
    "M = np.ones((5, 5))\n",
    "\n",
    "def matrix_mult_rec(M, k):\n",
    "    global calls\n",
    "    calls += 1\n",
    "    if M.size == 0:\n",
    "        return None\n",
    "    elif k == 0:\n",
    "        return M ** 0\n",
    "    else:\n",
    "        return M *  matrix_mult_rec(M, k - 1)\n",
    "#2.2\n",
    "calls = 0\n",
    "matrix_mult_rec(M,100)\n",
    "print('The number of times the function has been called for k = 100 is',calls,'times.')\n",
    "#2.3\n",
    "print('The number of times the function is called for k = n is n + 1 times.')\n",
    "#2.4\n",
    "k = 5\n",
    "print(matrix_mult_rec(M, 5))\n",
    "print('The function matrix_mult_rec(M, 5) called the function 6 times.')"
   ]
  },
  {
   "cell_type": "markdown",
   "metadata": {},
   "source": [
    "### Problem 03 (20 points):\n",
    "\n",
    "3.1 (5 points) Write a function that performs a bubble sort. \n",
    "\n",
    "3.2 (5 points) Write a function that performs a merge sort. \n",
    "\n",
    "3.3 (5 points) Generate a random numpy array $a$, of length $n=10000$, where each component is a random number independently and uniformly generated from the interval $[0, 1]$. \n",
    "\n",
    "3.4 (5 points) Estimate the run-times and print the difference when applied the functions from 3.1 and 3.2 on the array $a$. To estimate the run-times you can use the following part: "
   ]
  },
  {
   "cell_type": "code",
   "execution_count": 10,
   "metadata": {},
   "outputs": [
    {
     "name": "stdout",
     "output_type": "stream",
     "text": [
      "[[0.12218805 0.82600222 0.30550435 ... 0.41377906 0.87299023 0.63673372]]\n",
      "262 ns ± 4.85 ns per loop (mean ± std. dev. of 7 runs, 1000000 loops each)\n",
      "120 ns ± 0.603 ns per loop (mean ± std. dev. of 7 runs, 10000000 loops each)\n",
      "Merge sort is faster than bubble sort by 143 ns per loop\n"
     ]
    }
   ],
   "source": [
    "#3.1\n",
    "def bubble_sort(array):\n",
    "    for i in range(len(array) - 1):\n",
    "        for j in range(i + 1, len(array)):\n",
    "            if array[i] > array[j]:\n",
    "                arr[i], arr[j] = arr[j], arr[i]\n",
    "                \n",
    "#3.2\n",
    "def merge_two(left_arr, right_arr):\n",
    "    lst_result = []\n",
    "    left_point, right_point = 0, 0\n",
    "    while left_point < len(left_arr) and right_point < len(right_arr):\n",
    "        if left_arr[left_point] <= right_arr[right_point]:\n",
    "            lst_result.append(left_arr[left_point])\n",
    "            left_point += 1\n",
    "        else:\n",
    "            lst_result.append(right_arr[right_point])\n",
    "            right_point += 1\n",
    "    if left_point == len(left_arr):\n",
    "        lst_result += right_arr[right_point: ]\n",
    "    else:\n",
    "        lst_result += left_arr[left_point: ]\n",
    "    return lst_result\n",
    "\n",
    "def merge_sort(arr):\n",
    "    if len(arr) <= 1:\n",
    "        return arr\n",
    "    middle = len(arr) // 2\n",
    "    \n",
    "    arr_left = arr[: middle]    \n",
    "    arr_right = arr[middle: ]\n",
    "\n",
    "    arr_left = merge_sort(arr_left)\n",
    "    arr_right = merge_sort(arr_right)\n",
    "    \n",
    "    return list(merge_two_sorted(arr_left, arr_right))\n",
    "\n",
    "#3.3\n",
    "a = np.random.rand(1, 10000)\n",
    "print(a)\n",
    "#3.4\n",
    "\n",
    "#the package datetime was not able to estimate my function because the time was so short\n",
    "%timeit bubble_sort(a)\n",
    "\n",
    "%timeit merge_sort(a)\n",
    "print('Merge sort is faster than bubble sort by 143 ns per loop')"
   ]
  },
  {
   "cell_type": "markdown",
   "metadata": {},
   "source": [
    "\n",
    "### Problem 04 (20 points)\n"
   ]
  },
  {
   "cell_type": "markdown",
   "metadata": {},
   "source": [
    "The provided file 'nba2020.csv' contains the schedules and information of the NBA games for 2020. Using the unix commands, covered in Lecture04, write scripts which will display:\n",
    "    \n",
    "4.1 (5 points) a unique list of NBA teams, provided in the file;\n",
    "\n",
    "4.2 (5 points) the number of those NBA teams;\n",
    "\n",
    "4.3 (5 points) a unique list of the times -- provided in the file -- when the NBA matches were played;\n",
    "\n",
    "4.4 (5 points) the number of these unique times."
   ]
  },
  {
   "cell_type": "markdown",
   "metadata": {},
   "source": [
    "All questions are answered by using Git Bash (was not able to linux commands in Jupyter Notebook).\n",
    "\n",
    "4.1\n",
    "\n",
    "$ cut -d ',' -f 3 nba2020.csv | tail -n+2  | sort | uniq \n",
    "\n",
    "Atlanta Hawks\n",
    "\n",
    "Boston Celtics\n",
    "\n",
    "Brooklyn Nets\n",
    "\n",
    "Charlotte Hornets\n",
    "\n",
    "Chicago Bulls\n",
    "\n",
    "Cleveland Cavaliers\n",
    "\n",
    "Dallas Mavericks\n",
    "\n",
    "Denver Nuggets\n",
    "\n",
    "Detroit Pistons\n",
    "\n",
    "Golden State Warriors\n",
    "\n",
    "Houston Rockets\n",
    "\n",
    "Indiana Pacers\n",
    "\n",
    "Los Angeles Clippers\n",
    "\n",
    "Los Angeles Lakers\n",
    "\n",
    "Memphis Grizzlies\n",
    "\n",
    "Miami Heat\n",
    "\n",
    "Milwaukee Bucks\n",
    "\n",
    "Minnesota Timberwolves\n",
    "\n",
    "New Orleans Pelicans\n",
    "\n",
    "New York Knicks\n",
    "\n",
    "Oklahoma City Thunder\n",
    "\n",
    "Orlando Magic\n",
    "\n",
    "Philadelphia 76ers\n",
    "\n",
    "Phoenix Suns\n",
    "\n",
    "Portland Trail Blazers\n",
    "\n",
    "Sacramento Kings\n",
    "\n",
    "San Antonio Spurs\n",
    "\n",
    "Toronto Raptors\n",
    "\n",
    "Utah Jazz\n",
    "\n",
    "Washington Wizards\n"
   ]
  },
  {
   "cell_type": "markdown",
   "metadata": {},
   "source": [
    "4.2\n",
    "\n",
    "$ cut -d ',' -f 3 nba2020.csv | tail -n+2  | sort | uniq | wc -l\n",
    "\n",
    "30"
   ]
  },
  {
   "cell_type": "markdown",
   "metadata": {},
   "source": [
    "4.3\n",
    "\n",
    "$ cut -d ',' -f 2 nba2020.csv | tail -n+2 | sort | uniq\n",
    "\n",
    "10:00p\n",
    "\n",
    "10:30p\n",
    "\n",
    "3:30p\n",
    "\n",
    "5:00p\n",
    "\n",
    "6:00p\n",
    "\n",
    "7:00p\n",
    "\n",
    "7:30p\n",
    "\n",
    "8:00p\n",
    "\n",
    "8:30p\n",
    "\n",
    "9:00p\n",
    "\n",
    "9:30p"
   ]
  },
  {
   "cell_type": "markdown",
   "metadata": {},
   "source": [
    "4.4\n",
    "\n",
    "$ cut -d ',' -f 2 nba2020.csv | tail -n+2 | sort | uniq | wc -l\n",
    "\n",
    "12"
   ]
  },
  {
   "cell_type": "markdown",
   "metadata": {},
   "source": [
    "**Important:** to skip the header of file you can use: \n",
    "    \n",
    "`!tail -n+2 nba2020.csv`\n",
    "\n",
    "\n",
    "Since,\n",
    "\n",
    "``-n, --lines=[+]NUM       output the last NUM lines, instead of the last 10;\n",
    "                             or use -n +NUM to output starting with line NUM``\n",
    "        "
   ]
  }
 ],
 "metadata": {
  "kernelspec": {
   "display_name": "Python 3",
   "language": "python",
   "name": "python3"
  },
  "language_info": {
   "codemirror_mode": {
    "name": "ipython",
    "version": 3
   },
   "file_extension": ".py",
   "mimetype": "text/x-python",
   "name": "python",
   "nbconvert_exporter": "python",
   "pygments_lexer": "ipython3",
   "version": "3.8.3"
  }
 },
 "nbformat": 4,
 "nbformat_minor": 2
}
